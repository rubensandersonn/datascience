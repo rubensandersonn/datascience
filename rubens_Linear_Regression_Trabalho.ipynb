{
 "cells": [
  {
   "cell_type": "markdown",
   "metadata": {},
   "source": [
    "# Regressão Linear Simples - Trabalho\n",
    "\n",
    "## Estudo de caso: Seguro de automóvel sueco\n",
    "\n",
    "Agora, sabemos como implementar um modelo de regressão linear simples. Vamos aplicá-lo ao conjunto de dados do seguro de automóveis sueco. Esta seção assume que você baixou o conjunto de dados para o arquivo insurance.csv, o qual está disponível no notebook respectivo.\n",
    "\n",
    "O conjunto de dados envolve a previsão do pagamento total de todas as reclamações em milhares de Kronor sueco, dado o número total de reclamações. É um dataset composto por 63 observações com 1 variável de entrada e 1 variável de saída. Os nomes das variáveis são os seguintes:\n",
    "\n",
    "1. Número de reivindicações.\n",
    "2. Pagamento total para todas as reclamações em milhares de Kronor sueco.\n",
    "\n",
    "Voce deve adicionar algumas funções acessórias à regressão linear simples. Especificamente, uma função para carregar o arquivo CSV chamado *load_csv ()*, uma função para converter um conjunto de dados carregado para números chamado *str_column_to_float ()*, uma função para avaliar um algoritmo usando um conjunto de treino e teste chamado *split_train_split ()*, a função para calcular RMSE chamado *rmse_metric ()* e uma função para avaliar um algoritmo chamado *evaluate_algorithm()*.\n",
    "\n",
    "Utilize um conjunto de dados de treinamento de 60% dos dados para preparar o modelo. As previsões devem ser feitas nos restantes 40%. \n",
    "\n",
    "Compare a performabce do seu algoritmo com o algoritmo baseline, o qual utiliza a média dos pagamentos realizados para realizar a predição ( a média é 72,251 mil Kronor).\n"
   ]
  },
  {
   "cell_type": "code",
   "execution_count": 69,
   "metadata": {},
   "outputs": [],
   "source": [
    "import pandas as pd\n",
    "import numpy as np"
   ]
  },
  {
   "cell_type": "code",
   "execution_count": 125,
   "metadata": {},
   "outputs": [],
   "source": [
    "def separaDados(X):\n",
    "    # a coluna resultado deve estar na ultima posicao\n",
    "    X = np.array(X)\n",
    "    n = X.shape[1]\n",
    "    print(n)\n",
    "    y = X[:, n-1]\n",
    "    \n",
    "    X = X[:, 1:n]\n",
    "    X = np.concatenate((np.ones((X.shape[0], 1)), X), axis=1)\n",
    "    \n",
    "    return [X, y]"
   ]
  },
  {
   "cell_type": "code",
   "execution_count": 126,
   "metadata": {},
   "outputs": [],
   "source": [
    "def normaliza(x):\n",
    "    return x / np.linalg.norm(x)"
   ]
  },
  {
   "cell_type": "code",
   "execution_count": 127,
   "metadata": {},
   "outputs": [],
   "source": [
    "class linearRegression:\n",
    "    def __init__ (self, epocas, alpha):\n",
    "        self.epocas = epocas\n",
    "        self.alpha = alpha\n",
    "        \n",
    "        \n",
    "    def fit(self, X, Y):\n",
    "        # treinar...\n",
    "        \n",
    "        X = np.array(X).astype(float)\n",
    "        #X = normaliza(X)\n",
    "        Y = np.array(Y).astype(float)\n",
    "        \n",
    "        print(X)\n",
    "        \n",
    "        medx = np.mean(X)\n",
    "        medy = np.mean(Y)\n",
    "        \n",
    "        print(medx)\n",
    "        \n",
    "        [m, n] = X.shape\n",
    "        self.w = np.random.random((n+1,1))\n",
    "        \n",
    "        print(self.w)\n",
    "        \n",
    "        self.eqm = np.zeros((self.epocas)) # vetor coluna\n",
    "        Yb = np.zeros((m)) # vetor coluna\n",
    "        \n",
    "        print(\" Começando o loop de treino...\")\n",
    "        \n",
    "        for i in range(0, self.epocas):\n",
    "            #X = np.array(pd.DataFrame(X).sample(frac=1).reset_index(drop=True))\n",
    "            e = np.zeros((m)) # vetor coluna\n",
    "            \n",
    "            for j in range(0, m):\n",
    "                # w deve ser deitado...\n",
    "                \n",
    "                Yb[j] = float(self.w[1] * X[j]) + float(self.w[0])\n",
    "                \n",
    "                e[j] = (Y[j]) - (Yb[j])\n",
    "                \n",
    "                divisor = np.sum([((X[k] - medx) * ( Y[k] - medy )) for k in range(0, m)])\n",
    "                dividendo = np.sum([(float(X[k]) - medx)*(float(X[k]) - medx) + 0.0001 for k in range(0, m)])\n",
    "                \n",
    "                print((\"{0}|{1}\").format(divisor, dividendo))\n",
    "                print((\"xk {0}|medx {1}\").format(X[j], medx))\n",
    "                \n",
    "                self.w[1] = divisor / dividendo\n",
    "                self.w[0] = medy - self.w[1] * medx\n",
    "                \n",
    "                \n",
    "                e[j] = e[j] * e[j]\n",
    "                \n",
    "            \n",
    "            self.eqm[i] = np.mean(e)\n",
    "            if (i % 10) == 0:\n",
    "                print(('eqm na epoca : {0}').format(i))          \n",
    "                print(self.eqm[i])\n",
    "        \n",
    "        print(self.w)   \n",
    "            \n",
    "        return self.eqm\n",
    "        \n",
    "    def predict(self, x):\n",
    "        return (self.w[0] + self.w[1] * x)"
   ]
  },
  {
   "cell_type": "code",
   "execution_count": 131,
   "metadata": {},
   "outputs": [
    {
     "data": {
      "text/html": [
       "<div>\n",
       "<style scoped>\n",
       "    .dataframe tbody tr th:only-of-type {\n",
       "        vertical-align: middle;\n",
       "    }\n",
       "\n",
       "    .dataframe tbody tr th {\n",
       "        vertical-align: top;\n",
       "    }\n",
       "\n",
       "    .dataframe thead th {\n",
       "        text-align: right;\n",
       "    }\n",
       "</style>\n",
       "<table border=\"1\" class=\"dataframe\">\n",
       "  <thead>\n",
       "    <tr style=\"text-align: right;\">\n",
       "      <th></th>\n",
       "      <th>0</th>\n",
       "      <th>1</th>\n",
       "    </tr>\n",
       "  </thead>\n",
       "  <tbody>\n",
       "    <tr>\n",
       "      <th>0</th>\n",
       "      <td>108</td>\n",
       "      <td>392.5</td>\n",
       "    </tr>\n",
       "    <tr>\n",
       "      <th>1</th>\n",
       "      <td>19</td>\n",
       "      <td>46.2</td>\n",
       "    </tr>\n",
       "    <tr>\n",
       "      <th>2</th>\n",
       "      <td>13</td>\n",
       "      <td>15.7</td>\n",
       "    </tr>\n",
       "    <tr>\n",
       "      <th>3</th>\n",
       "      <td>124</td>\n",
       "      <td>422.2</td>\n",
       "    </tr>\n",
       "    <tr>\n",
       "      <th>4</th>\n",
       "      <td>40</td>\n",
       "      <td>119.4</td>\n",
       "    </tr>\n",
       "  </tbody>\n",
       "</table>\n",
       "</div>"
      ],
      "text/plain": [
       "     0      1\n",
       "0  108  392.5\n",
       "1   19   46.2\n",
       "2   13   15.7\n",
       "3  124  422.2\n",
       "4   40  119.4"
      ]
     },
     "execution_count": 131,
     "metadata": {},
     "output_type": "execute_result"
    }
   ],
   "source": [
    "df = pd.read_csv(\"insurance.csv\", header=None, delimiter=',')\n",
    "df.head()"
   ]
  },
  {
   "cell_type": "code",
   "execution_count": 137,
   "metadata": {},
   "outputs": [
    {
     "name": "stdout",
     "output_type": "stream",
     "text": [
      "2\n"
     ]
    },
    {
     "data": {
      "text/html": [
       "<div>\n",
       "<style scoped>\n",
       "    .dataframe tbody tr th:only-of-type {\n",
       "        vertical-align: middle;\n",
       "    }\n",
       "\n",
       "    .dataframe tbody tr th {\n",
       "        vertical-align: top;\n",
       "    }\n",
       "\n",
       "    .dataframe thead th {\n",
       "        text-align: right;\n",
       "    }\n",
       "</style>\n",
       "<table border=\"1\" class=\"dataframe\">\n",
       "  <thead>\n",
       "    <tr style=\"text-align: right;\">\n",
       "      <th></th>\n",
       "      <th>1.0</th>\n",
       "      <th>392.5</th>\n",
       "    </tr>\n",
       "  </thead>\n",
       "  <tbody>\n",
       "    <tr>\n",
       "      <th>0</th>\n",
       "      <td>1.0</td>\n",
       "      <td>392.5</td>\n",
       "    </tr>\n",
       "    <tr>\n",
       "      <th>1</th>\n",
       "      <td>1.0</td>\n",
       "      <td>46.2</td>\n",
       "    </tr>\n",
       "    <tr>\n",
       "      <th>2</th>\n",
       "      <td>1.0</td>\n",
       "      <td>15.7</td>\n",
       "    </tr>\n",
       "    <tr>\n",
       "      <th>3</th>\n",
       "      <td>1.0</td>\n",
       "      <td>422.2</td>\n",
       "    </tr>\n",
       "    <tr>\n",
       "      <th>4</th>\n",
       "      <td>1.0</td>\n",
       "      <td>119.4</td>\n",
       "    </tr>\n",
       "  </tbody>\n",
       "</table>\n",
       "</div>"
      ],
      "text/plain": [
       "   1.0    392.5\n",
       "0    1.0  392.5\n",
       "1    1.0   46.2\n",
       "2    1.0   15.7\n",
       "3    1.0  422.2\n",
       "4    1.0  119.4"
      ]
     },
     "execution_count": 137,
     "metadata": {},
     "output_type": "execute_result"
    }
   ],
   "source": [
    "# separando os dados e tirando indices...\n",
    "\n",
    "lr = linearRegression(10, 0.4)\n",
    "\n",
    "[X, y] = separaDados(df)\n",
    "\n",
    "X = pd.DataFrame(X, columns=X[0,:])\n",
    "#X = X.drop([0]).reset_index(drop=True)\n",
    "\n",
    "y = pd.DataFrame(y, columns=[y[0]])\n",
    "#y = y.drop([0]).reset_index(drop=True)\n",
    "X.head()\n",
    "\n",
    "#lr.fit(X, y)"
   ]
  },
  {
   "cell_type": "code",
   "execution_count": 130,
   "metadata": {},
   "outputs": [
    {
     "data": {
      "text/plain": [
       "7"
      ]
     },
     "execution_count": 130,
     "metadata": {},
     "output_type": "execute_result"
    }
   ],
   "source": [
    "np.sum([1, 2, 2, 2])"
   ]
  },
  {
   "cell_type": "code",
   "execution_count": null,
   "metadata": {},
   "outputs": [],
   "source": []
  }
 ],
 "metadata": {
  "kernelspec": {
   "display_name": "Python 2",
   "language": "python",
   "name": "python2"
  },
  "language_info": {
   "codemirror_mode": {
    "name": "ipython",
    "version": 2
   },
   "file_extension": ".py",
   "mimetype": "text/x-python",
   "name": "python",
   "nbconvert_exporter": "python",
   "pygments_lexer": "ipython2",
   "version": "2.7.14"
  }
 },
 "nbformat": 4,
 "nbformat_minor": 2
}

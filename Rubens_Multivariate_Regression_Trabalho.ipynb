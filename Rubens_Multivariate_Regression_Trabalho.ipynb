{
 "cells": [
  {
   "cell_type": "markdown",
   "metadata": {},
   "source": [
    "# Regressão Linear Multivariada - Trabalho\n",
    "\n",
    "## Estudo de caso: Qualidade de Vinhos\n",
    "\n",
    "Nesta trabalho, treinaremos um modelo de regressão linear usando descendência de gradiente estocástico no conjunto de dados da Qualidade do Vinho. O exemplo pressupõe que uma cópia CSV do conjunto de dados está no diretório de trabalho atual com o nome do arquivo *winequality-white.csv*.\n",
    "\n",
    "O conjunto de dados de qualidade do vinho envolve a previsão da qualidade dos vinhos brancos em uma escala, com medidas químicas de cada vinho. É um problema de classificação multiclasse, mas também pode ser enquadrado como um problema de regressão. O número de observações para cada classe não é equilibrado. Existem 4.898 observações com 11 variáveis de entrada e 1 variável de saída. Os nomes das variáveis são os seguintes:\n",
    "\n",
    "1. Fixed acidity.\n",
    "2. Volatile acidity.\n",
    "3. Citric acid.\n",
    "4. Residual sugar.\n",
    "5. Chlorides.\n",
    "6. Free sulfur dioxide. \n",
    "7. Total sulfur dioxide. \n",
    "8. Density.\n",
    "9. pH.\n",
    "10. Sulphates.\n",
    "11. Alcohol.\n",
    "12. Quality (score between 0 and 10).\n",
    "\n",
    "O desempenho de referencia de predição do valor médio é um RMSE de aproximadamente 0.148 pontos de qualidade.\n",
    "\n",
    "Utilize o exemplo apresentado no tutorial e altere-o de forma a carregar os dados e analisar a acurácia de sua solução. \n"
   ]
  },
  {
   "cell_type": "code",
   "execution_count": 63,
   "metadata": {},
   "outputs": [],
   "source": [
    "import pandas as pd\n",
    "import numpy as np\n",
    "import random\n",
    "from sklearn.preprocessing import normalize"
   ]
  },
  {
   "cell_type": "code",
   "execution_count": 64,
   "metadata": {},
   "outputs": [],
   "source": [
    "def normaliza(x):\n",
    "    return x / np.linalg.norm(x)"
   ]
  },
  {
   "cell_type": "code",
   "execution_count": 65,
   "metadata": {},
   "outputs": [],
   "source": [
    "def multiply(a, b):\n",
    "    a = np.array(a)\n",
    "    b = np.array(b)\n",
    "    print(a.shape)\n",
    "    ma = a.shape[0]\n",
    "    na = a.shape[1]\n",
    "    [mb, nb] = b.shape\n",
    "    r = np.zeros(ma, nb)\n",
    "    \n",
    "    for i in range(0, ma):\n",
    "        for j in range(0, nb):\n",
    "            s = 0\n",
    "            for k in range(0, ):\n",
    "                s = s + a[i, k] * b[k, j]\n",
    "            r[i,j] = s\n",
    "    return r\n",
    "                "
   ]
  },
  {
   "cell_type": "code",
   "execution_count": 66,
   "metadata": {},
   "outputs": [],
   "source": [
    "def separaDados(X):\n",
    "    # a coluna resultado deve estar na ultima posicao\n",
    "    X = np.array(X)\n",
    "    n = X.shape[1]\n",
    "    y = X[:, n - 1]\n",
    "    X = X[:, 1:n - 1]\n",
    "    X = np.concatenate((np.ones((X.shape[0], 1)), X), axis=1)\n",
    "    \n",
    "    return [X, y]"
   ]
  },
  {
   "cell_type": "code",
   "execution_count": 67,
   "metadata": {},
   "outputs": [],
   "source": [
    "class linearRegression:\n",
    "    def __init__ (self, epocas, alpha):\n",
    "        self.epocas = epocas\n",
    "        self.alpha = alpha\n",
    "        \n",
    "        \n",
    "    def fit(self, X, Y):\n",
    "        # treinar...\n",
    "        \n",
    "        X = np.array(X).astype(float)\n",
    "        X = normaliza(X)\n",
    "        Y = np.array(Y).astype(float)\n",
    "        \n",
    "        [m, n] = X.shape\n",
    "        self.w = np.random.random((n,1))\n",
    "        \n",
    "        self.eqm = np.zeros((self.epocas)) # vetor coluna\n",
    "        Yb = np.zeros((m)) # vetor coluna\n",
    "        \n",
    "        print(\" Começando o loop de treino...\")\n",
    "        \n",
    "        for i in range(0, self.epocas):\n",
    "            \n",
    "            e = np.zeros((m)) # vetor coluna\n",
    "            j = 0\n",
    "            for j in range(0, m):\n",
    "                # w deve ser deitado...\n",
    "                W = pd.DataFrame(self.w).transpose()\n",
    "                \n",
    "                # xi deve ser em pe...\n",
    "                xi = pd.DataFrame(X[j,:])\n",
    "                \n",
    "                Yb[j] = np.matmul(W, xi)[0,0]\n",
    "                \n",
    "                e[j] = (Y[j]) - (Yb[j])\n",
    "                \n",
    "                self.w = np.add(self.w , self.alpha * float(e[j]) * X[j,:])\n",
    "                \n",
    "                e[j] = e[j] * e[j]\n",
    "                \n",
    "            self.eqm[i] = np.mean(e)\n",
    "            if (i % 10) == 0:\n",
    "                print(('eqm na epoca : {0}').format(i))          \n",
    "                print(self.eqm[i])\n",
    "        return eqm\n",
    "        \n",
    "    def predict(self, x):\n",
    "        return np.multiply(self.w , np.transpose(x))"
   ]
  },
  {
   "cell_type": "code",
   "execution_count": null,
   "metadata": {},
   "outputs": [
    {
     "name": "stdout",
     "output_type": "stream",
     "text": [
      " Começando o loop de treino...\n",
      "eqm na epoca : 0\n",
      "35.2255071537\n"
     ]
    }
   ],
   "source": [
    "df = pd.read_csv(\"winequality-white.csv\", header=None, delimiter=';')\n",
    "df.head()\n",
    "\n",
    "[X, y] = separaDados(df)\n",
    "\n",
    "X = pd.DataFrame(X, columns=X[0,:])\n",
    "X = X.drop([0]).reset_index(drop=True)\n",
    "\n",
    "y = pd.DataFrame(y, columns=[y[0]])\n",
    "y = y.drop([0]).reset_index(drop=True)\n",
    "\n",
    "lr = linearRegression(800, 0.14)\n",
    "\n",
    "eqm = lr.fit(X,y)\n",
    "\n",
    "xl = np.arange(800)\n",
    "plot(xl, eqm)\n"
   ]
  },
  {
   "cell_type": "code",
   "execution_count": null,
   "metadata": {},
   "outputs": [],
   "source": []
  },
  {
   "cell_type": "code",
   "execution_count": null,
   "metadata": {},
   "outputs": [],
   "source": []
  }
 ],
 "metadata": {
  "kernelspec": {
   "display_name": "Python 3",
   "language": "python",
   "name": "python3"
  },
  "language_info": {
   "codemirror_mode": {
    "name": "ipython",
    "version": 3
   },
   "file_extension": ".py",
   "mimetype": "text/x-python",
   "name": "python",
   "nbconvert_exporter": "python",
   "pygments_lexer": "ipython3",
   "version": "3.6.2"
  }
 },
 "nbformat": 4,
 "nbformat_minor": 2
}

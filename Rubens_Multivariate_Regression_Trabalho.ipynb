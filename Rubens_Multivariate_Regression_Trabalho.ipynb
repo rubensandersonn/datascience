{
 "cells": [
  {
   "cell_type": "markdown",
   "metadata": {},
   "source": [
    "# Regressão Linear Multivariada - Trabalho\n",
    "\n",
    "## Estudo de caso: Qualidade de Vinhos\n",
    "\n",
    "Nesta trabalho, treinaremos um modelo de regressão linear usando descendência de gradiente estocástico no conjunto de dados da Qualidade do Vinho. O exemplo pressupõe que uma cópia CSV do conjunto de dados está no diretório de trabalho atual com o nome do arquivo *winequality-white.csv*.\n",
    "\n",
    "O conjunto de dados de qualidade do vinho envolve a previsão da qualidade dos vinhos brancos em uma escala, com medidas químicas de cada vinho. É um problema de classificação multiclasse, mas também pode ser enquadrado como um problema de regressão. O número de observações para cada classe não é equilibrado. Existem 4.898 observações com 11 variáveis de entrada e 1 variável de saída. Os nomes das variáveis são os seguintes:\n",
    "\n",
    "1. Fixed acidity.\n",
    "2. Volatile acidity.\n",
    "3. Citric acid.\n",
    "4. Residual sugar.\n",
    "5. Chlorides.\n",
    "6. Free sulfur dioxide. \n",
    "7. Total sulfur dioxide. \n",
    "8. Density.\n",
    "9. pH.\n",
    "10. Sulphates.\n",
    "11. Alcohol.\n",
    "12. Quality (score between 0 and 10).\n",
    "\n",
    "O desempenho de referencia de predição do valor médio é um RMSE de aproximadamente 0.148 pontos de qualidade.\n",
    "\n",
    "Utilize o exemplo apresentado no tutorial e altere-o de forma a carregar os dados e analisar a acurácia de sua solução. \n"
   ]
  },
  {
   "cell_type": "code",
<<<<<<< HEAD
   "execution_count": 1,
=======
   "execution_count": 63,
>>>>>>> 4ab2167d5d4a6974a9afe9ec6435793039c4772d
   "metadata": {},
   "outputs": [],
   "source": [
    "import pandas as pd\n",
    "import numpy as np\n",
    "import random\n",
    "from sklearn.preprocessing import normalize"
   ]
  },
  {
   "cell_type": "code",
<<<<<<< HEAD
   "execution_count": 2,
=======
   "execution_count": 64,
>>>>>>> 4ab2167d5d4a6974a9afe9ec6435793039c4772d
   "metadata": {},
   "outputs": [],
   "source": [
    "def normaliza(x):\n",
    "    return x / np.linalg.norm(x)"
   ]
  },
  {
   "cell_type": "code",
<<<<<<< HEAD
   "execution_count": 3,
=======
   "execution_count": 65,
>>>>>>> 4ab2167d5d4a6974a9afe9ec6435793039c4772d
   "metadata": {},
   "outputs": [],
   "source": [
    "def multiply(a, b):\n",
    "    a = np.array(a)\n",
    "    b = np.array(b)\n",
    "    print(a.shape)\n",
    "    ma = a.shape[0]\n",
    "    na = a.shape[1]\n",
    "    [mb, nb] = b.shape\n",
    "    r = np.zeros(ma, nb)\n",
    "    \n",
    "    for i in range(0, ma):\n",
    "        for j in range(0, nb):\n",
    "            s = 0\n",
    "            for k in range(0, ):\n",
    "                s = s + a[i, k] * b[k, j]\n",
    "            r[i,j] = s\n",
    "    return r\n",
    "                "
   ]
  },
  {
   "cell_type": "code",
<<<<<<< HEAD
   "execution_count": 4,
=======
   "execution_count": 66,
>>>>>>> 4ab2167d5d4a6974a9afe9ec6435793039c4772d
   "metadata": {},
   "outputs": [],
   "source": [
    "def separaDados(X):\n",
    "    # a coluna resultado deve estar na ultima posicao\n",
    "    X = np.array(X)\n",
    "    n = X.shape[1]\n",
    "    y = X[:, n - 1]\n",
    "    X = X[:, 1:n - 1]\n",
    "    X = np.concatenate((np.ones((X.shape[0], 1)), X), axis=1)\n",
    "    \n",
    "    return [X, y]"
   ]
  },
  {
   "cell_type": "code",
<<<<<<< HEAD
   "execution_count": 11,
=======
   "execution_count": 67,
>>>>>>> 4ab2167d5d4a6974a9afe9ec6435793039c4772d
   "metadata": {},
   "outputs": [],
   "source": [
    "class linearRegression:\n",
    "    def __init__ (self, epocas, alpha):\n",
    "        self.epocas = epocas\n",
    "        self.alpha = alpha\n",
    "        \n",
    "        \n",
    "    def fit(self, X, Y):\n",
    "        # treinar...\n",
    "        \n",
    "        X = np.array(X).astype(float)\n",
    "        X = normaliza(X)\n",
    "        Y = np.array(Y).astype(float)\n",
    "        \n",
    "        [m, n] = X.shape\n",
    "        self.w = np.random.random((n,1))\n",
    "        \n",
    "        self.eqm = np.zeros((self.epocas)) # vetor coluna\n",
    "        Yb = np.zeros((m)) # vetor coluna\n",
    "        \n",
    "        print(\" Começando o loop de treino...\")\n",
    "        \n",
    "        for i in range(0, self.epocas):\n",
<<<<<<< HEAD
    "            X = np.array(pd.DataFrame(X).sample(frac=1).reset_index(drop=True))\n",
    "            e = np.zeros((m)) # vetor coluna\n",
    "            \n",
=======
    "            \n",
    "            e = np.zeros((m)) # vetor coluna\n",
    "            j = 0\n",
>>>>>>> 4ab2167d5d4a6974a9afe9ec6435793039c4772d
    "            for j in range(0, m):\n",
    "                # w deve ser deitado...\n",
    "                W = pd.DataFrame(self.w).transpose()\n",
    "                \n",
    "                # xi deve ser em pe...\n",
    "                xi = pd.DataFrame(X[j,:])\n",
    "                \n",
    "                Yb[j] = np.matmul(W, xi)[0,0]\n",
    "                \n",
    "                e[j] = (Y[j]) - (Yb[j])\n",
    "                \n",
    "                self.w = np.add(self.w , self.alpha * float(e[j]) * X[j,:])\n",
    "                \n",
    "                e[j] = e[j] * e[j]\n",
    "                \n",
    "            self.eqm[i] = np.mean(e)\n",
    "            if (i % 10) == 0:\n",
    "                print(('eqm na epoca : {0}').format(i))          \n",
    "                print(self.eqm[i])\n",
<<<<<<< HEAD
    "        return self.eqm\n",
    "        \n",
    "    def predict(self, x):\n",
    "        return np.matmul(pd.DataFrame(self.w).transpose() , pd.DataFrame(x))"
=======
    "        return eqm\n",
    "        \n",
    "    def predict(self, x):\n",
    "        return np.multiply(self.w , np.transpose(x))"
>>>>>>> 4ab2167d5d4a6974a9afe9ec6435793039c4772d
   ]
  },
  {
   "cell_type": "code",
<<<<<<< HEAD
   "execution_count": 12,
=======
   "execution_count": null,
>>>>>>> 4ab2167d5d4a6974a9afe9ec6435793039c4772d
   "metadata": {},
   "outputs": [
    {
     "name": "stdout",
     "output_type": "stream",
     "text": [
      " Começando o loop de treino...\n",
      "eqm na epoca : 0\n",
<<<<<<< HEAD
      "35.2767209873\n",
      "eqm na epoca : 10\n",
      "34.4477715481\n",
      "eqm na epoca : 20\n",
      "33.6418063387\n",
      "eqm na epoca : 30\n",
      "32.856904886\n",
      "eqm na epoca : 40\n",
      "32.0838661433\n",
      "eqm na epoca : 50\n",
      "31.3408329495\n",
      "eqm na epoca : 60\n",
      "30.6164701405\n",
      "eqm na epoca : 70\n",
      "29.9000002139\n",
      "eqm na epoca : 80\n",
      "29.2036318944\n",
      "eqm na epoca : 90\n",
      "28.5356576381\n",
      "eqm na epoca : 100\n",
      "27.8656638163\n",
      "eqm na epoca : 110\n",
      "27.2208071396\n",
      "eqm na epoca : 120\n",
      "26.6041006163\n",
      "eqm na epoca : 130\n",
      "25.9898627399\n",
      "eqm na epoca : 140\n",
      "25.4036275087\n",
      "eqm na epoca : 150\n",
      "24.8129072221\n",
      "eqm na epoca : 160\n",
      "24.2528539123\n",
      "eqm na epoca : 170\n",
      "23.6910694535\n",
      "eqm na epoca : 180\n",
      "23.1661910388\n",
      "eqm na epoca : 190\n",
      "22.633116705\n",
      "eqm na epoca : 200\n",
      "22.131252962\n",
      "eqm na epoca : 210\n",
      "21.6341265336\n",
      "eqm na epoca : 220\n",
      "21.1473477378\n",
      "eqm na epoca : 230\n",
      "20.6688283447\n",
      "eqm na epoca : 240\n",
      "20.217879334\n",
      "eqm na epoca : 250\n",
      "19.7737691248\n",
      "eqm na epoca : 260\n",
      "19.3298716008\n",
      "eqm na epoca : 270\n",
      "18.9105841277\n",
      "eqm na epoca : 280\n",
      "18.4757920688\n",
      "eqm na epoca : 290\n",
      "18.083205199\n",
      "eqm na epoca : 300\n",
      "17.6674082848\n",
      "eqm na epoca : 310\n",
      "17.295645001\n",
      "eqm na epoca : 320\n",
      "16.9187760883\n",
      "eqm na epoca : 330\n",
      "16.5754161978\n",
      "eqm na epoca : 340\n",
      "16.2001417093\n",
      "eqm na epoca : 350\n",
      "15.8466661017\n",
      "eqm na epoca : 360\n",
      "15.5469561224\n",
      "eqm na epoca : 370\n",
      "15.1623827417\n",
      "eqm na epoca : 380\n",
      "14.8675810117\n",
      "eqm na epoca : 390\n",
      "14.5655783443\n",
      "eqm na epoca : 400\n",
      "14.2652679441\n",
      "eqm na epoca : 410\n",
      "13.9586798282\n",
      "eqm na epoca : 420\n",
      "13.6949566648\n",
      "eqm na epoca : 430\n",
      "13.403554855\n",
      "eqm na epoca : 440\n",
      "13.1134572264\n",
      "eqm na epoca : 450\n",
      "12.8298081806\n",
      "eqm na epoca : 460\n",
      "12.5624101633\n",
      "eqm na epoca : 470\n",
      "12.3378317563\n",
      "eqm na epoca : 480\n",
      "12.0815327511\n",
      "eqm na epoca : 490\n",
      "11.8369061085\n",
      "eqm na epoca : 500\n",
      "11.6163987913\n",
      "eqm na epoca : 510\n",
      "11.3818651667\n",
      "eqm na epoca : 520\n",
      "11.1575254828\n",
      "eqm na epoca : 530\n",
      "10.9333635471\n",
      "eqm na epoca : 540\n",
      "10.7398048759\n",
      "eqm na epoca : 550\n",
      "10.5207777595\n",
      "eqm na epoca : 560\n",
      "10.2907457014\n",
      "eqm na epoca : 570\n",
      "10.094835056\n",
      "eqm na epoca : 580\n",
      "9.90943312313\n",
      "eqm na epoca : 590\n",
      "9.7456162897\n",
      "eqm na epoca : 600\n",
      "9.6182989433\n",
      "eqm na epoca : 610\n",
      "9.36087636629\n",
      "eqm na epoca : 620\n",
      "9.20367681404\n",
      "eqm na epoca : 630\n",
      "9.00966828689\n",
      "eqm na epoca : 640\n",
      "8.92620965421\n",
      "eqm na epoca : 650\n",
      "8.76203661359\n",
      "eqm na epoca : 660\n",
      "8.58696253275\n",
      "eqm na epoca : 670\n",
      "8.4396855238\n",
      "eqm na epoca : 680\n",
      "8.25575593527\n",
      "eqm na epoca : 690\n",
      "8.18031166235\n",
      "eqm na epoca : 700\n",
      "8.03241230474\n",
      "eqm na epoca : 710\n",
      "7.87967302536\n",
      "eqm na epoca : 720\n",
      "7.72097781831\n",
      "eqm na epoca : 730\n",
      "7.60492222634\n",
      "eqm na epoca : 740\n",
      "7.47600557289\n",
      "eqm na epoca : 750\n",
      "7.42225917906\n",
      "eqm na epoca : 760\n",
      "7.1893075198\n",
      "eqm na epoca : 770\n",
      "7.14364186961\n",
      "eqm na epoca : 780\n",
      "6.97050026102\n",
      "eqm na epoca : 790\n",
      "6.8606109668\n"
     ]
    },
    {
     "ename": "NameError",
     "evalue": "name 'plot' is not defined",
     "output_type": "error",
     "traceback": [
      "\u001b[0;31m---------------------------------------------------------------------------\u001b[0m",
      "\u001b[0;31mNameError\u001b[0m                                 Traceback (most recent call last)",
      "\u001b[0;32m<ipython-input-12-0bd9bcfe7dae>\u001b[0m in \u001b[0;36m<module>\u001b[0;34m()\u001b[0m\n\u001b[1;32m     15\u001b[0m \u001b[0;34m\u001b[0m\u001b[0m\n\u001b[1;32m     16\u001b[0m \u001b[0mxl\u001b[0m \u001b[0;34m=\u001b[0m \u001b[0mnp\u001b[0m\u001b[0;34m.\u001b[0m\u001b[0marange\u001b[0m\u001b[0;34m(\u001b[0m\u001b[0;36m800\u001b[0m\u001b[0;34m)\u001b[0m\u001b[0;34m\u001b[0m\u001b[0m\n\u001b[0;32m---> 17\u001b[0;31m \u001b[0mplot\u001b[0m\u001b[0;34m(\u001b[0m\u001b[0mxl\u001b[0m\u001b[0;34m,\u001b[0m \u001b[0meqm\u001b[0m\u001b[0;34m)\u001b[0m\u001b[0;34m\u001b[0m\u001b[0m\n\u001b[0m",
      "\u001b[0;31mNameError\u001b[0m: name 'plot' is not defined"
=======
      "35.2255071537\n"
>>>>>>> 4ab2167d5d4a6974a9afe9ec6435793039c4772d
     ]
    }
   ],
   "source": [
    "df = pd.read_csv(\"winequality-white.csv\", header=None, delimiter=';')\n",
    "df.head()\n",
    "\n",
    "[X, y] = separaDados(df)\n",
    "\n",
    "X = pd.DataFrame(X, columns=X[0,:])\n",
    "X = X.drop([0]).reset_index(drop=True)\n",
    "\n",
    "y = pd.DataFrame(y, columns=[y[0]])\n",
    "y = y.drop([0]).reset_index(drop=True)\n",
    "\n",
    "lr = linearRegression(800, 0.14)\n",
    "\n",
    "eqm = lr.fit(X,y)\n",
    "\n",
    "xl = np.arange(800)\n",
    "plot(xl, eqm)\n"
   ]
  },
  {
   "cell_type": "code",
   "execution_count": null,
   "metadata": {},
   "outputs": [],
   "source": []
  },
  {
   "cell_type": "code",
   "execution_count": null,
   "metadata": {},
   "outputs": [],
   "source": []
  }
 ],
 "metadata": {
  "kernelspec": {
<<<<<<< HEAD
   "display_name": "Python 2",
   "language": "python",
   "name": "python2"
=======
   "display_name": "Python 3",
   "language": "python",
   "name": "python3"
>>>>>>> 4ab2167d5d4a6974a9afe9ec6435793039c4772d
  },
  "language_info": {
   "codemirror_mode": {
    "name": "ipython",
<<<<<<< HEAD
    "version": 2
=======
    "version": 3
>>>>>>> 4ab2167d5d4a6974a9afe9ec6435793039c4772d
   },
   "file_extension": ".py",
   "mimetype": "text/x-python",
   "name": "python",
   "nbconvert_exporter": "python",
<<<<<<< HEAD
   "pygments_lexer": "ipython2",
   "version": "2.7.14"
=======
   "pygments_lexer": "ipython3",
   "version": "3.6.2"
>>>>>>> 4ab2167d5d4a6974a9afe9ec6435793039c4772d
  }
 },
 "nbformat": 4,
 "nbformat_minor": 2
}
